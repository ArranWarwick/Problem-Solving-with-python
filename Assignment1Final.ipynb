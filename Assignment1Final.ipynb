{
 "cells": [
  {
   "cell_type": "code",
   "execution_count": 1,
   "id": "c98aa254-23b0-4b8f-853c-6999bda836a6",
   "metadata": {},
   "outputs": [],
   "source": [
    "import numpy as np"
   ]
  },
  {
   "cell_type": "code",
   "execution_count": 2,
   "id": "47756f25-bb98-4a62-b28c-7c979e0e02d9",
   "metadata": {},
   "outputs": [
    {
     "name": "stdin",
     "output_type": "stream",
     "text": [
      "Enter the first whole number from 0-9 1\n",
      "Enter the second whole number from 0-9 5\n",
      "Enter length of the chain 70\n"
     ]
    },
    {
     "name": "stdout",
     "output_type": "stream",
     "text": [
      "[1, 5, 6, 1, 7, 8, 5, 3, 8, 1, 9, 0, 9, 9, 8, 7, 5, 2, 7, 9, 6, 5, 1, 6, 7, 3, 0, 3, 3, 6, 9, 5, 4, 9, 3, 2, 5, 7, 2, 9, 1, 0, 1, 1, 2, 3, 5, 8, 3, 1, 4, 5, 9, 4, 3, 7, 0, 7, 7, 4, 1, 5, 6, 1, 7, 8, 5, 3, 8, 1]\n"
     ]
    }
   ],
   "source": [
    "def chain():\n",
    "        #input a and b in the range [0,9]\n",
    "        a = (input(\"Enter the first whole number from 0-9\"))\n",
    "        b = (input(\"Enter the second whole number from 0-9\"))\n",
    "        \n",
    "        #Input the length of the chain\n",
    "        length=int(input(\"Enter length of the chain\"))\n",
    "        result = [int(a), int(b)]\n",
    "                         \n",
    "        for i in range (2,length):\n",
    "                         next_entry=(result[i-1]+result[i-2]) %10\n",
    "                         result.append(next_entry)\n",
    "        return result\n",
    "Chain=chain()\n",
    "print(Chain)\n",
    "                         "
   ]
  },
  {
   "cell_type": "code",
   "execution_count": 3,
   "id": "e27f8423-507e-4b64-8709-5bac09019c3c",
   "metadata": {},
   "outputs": [
    {
     "name": "stdin",
     "output_type": "stream",
     "text": [
      "Enter the first whole number from 0-9 1\n",
      "Enter the second whole number from 0-9 8\n"
     ]
    },
    {
     "name": "stdout",
     "output_type": "stream",
     "text": [
      "The length of the cycle is 12.\n"
     ]
    }
   ],
   "source": [
    "def cycle_length():\n",
    "    #input a and b in the range [0,9]\n",
    "    a = int(input(\"Enter the first whole number from 0-9\"))\n",
    "    b = int(input(\"Enter the second whole number from 0-9\"))\n",
    "\n",
    "    # Input the length of the chain\n",
    "    length = 100\n",
    "\n",
    "    result = [a, b]\n",
    "\n",
    "    for i in range(2, length):\n",
    "        next_entry = (result[i-1] + result[i-2])%10\n",
    "        result.append(next_entry)\n",
    "\n",
    "        # Check for when the first pair repeats later in the chain\n",
    "        if i > 2 and result[i - 2] == a and result[i - 1] == b:\n",
    "            cyclic_length = i - 2\n",
    "            print(f\"The length of the cycle is {cyclic_length}.\")\n",
    "            return\n",
    "\n",
    "    print(\"There are no cycles present.\")\n",
    "cycle_length()"
   ]
  },
  {
   "cell_type": "code",
   "execution_count": 4,
   "id": "a22d2ec1-b3c3-4eab-92d2-a2246c07ac2a",
   "metadata": {},
   "outputs": [
    {
     "name": "stdout",
     "output_type": "stream",
     "text": [
      "Starting Pair(a, b)| Cycle Length\n",
      "(0, 0)             | 1\n",
      "(0, 1)             | 60\n",
      "(0, 2)             | 20\n",
      "(0, 3)             | 60\n",
      "(0, 4)             | 20\n",
      "(0, 5)             | 3\n",
      "(0, 6)             | 20\n",
      "(0, 7)             | 60\n",
      "(0, 8)             | 20\n",
      "(0, 9)             | 60\n",
      "(1, 0)             | 60\n",
      "(1, 1)             | 60\n",
      "(1, 2)             | 60\n",
      "(1, 3)             | 12\n",
      "(1, 4)             | 60\n",
      "(1, 5)             | 60\n",
      "(1, 6)             | 60\n",
      "(1, 7)             | 60\n",
      "(1, 8)             | 12\n",
      "(1, 9)             | 60\n",
      "(2, 0)             | 20\n",
      "(2, 1)             | 12\n",
      "(2, 2)             | 20\n",
      "(2, 3)             | 60\n",
      "(2, 4)             | 20\n",
      "(2, 5)             | 60\n",
      "(2, 6)             | 4\n",
      "(2, 7)             | 60\n",
      "(2, 8)             | 20\n",
      "(2, 9)             | 60\n",
      "(3, 0)             | 60\n",
      "(3, 1)             | 60\n",
      "(3, 2)             | 60\n",
      "(3, 3)             | 60\n",
      "(3, 4)             | 12\n",
      "(3, 5)             | 60\n",
      "(3, 6)             | 60\n",
      "(3, 7)             | 60\n",
      "(3, 8)             | 60\n",
      "(3, 9)             | 12\n",
      "(4, 0)             | 20\n",
      "(4, 1)             | 60\n",
      "(4, 2)             | 4\n",
      "(4, 3)             | 60\n",
      "(4, 4)             | 20\n",
      "(4, 5)             | 60\n",
      "(4, 6)             | 20\n",
      "(4, 7)             | 12\n",
      "(4, 8)             | 20\n",
      "(4, 9)             | 60\n",
      "(5, 0)             | 3\n",
      "(5, 1)             | 60\n",
      "(5, 2)             | 60\n",
      "(5, 3)             | 60\n",
      "(5, 4)             | 60\n",
      "(5, 5)             | 3\n",
      "(5, 6)             | 60\n",
      "(5, 7)             | 60\n",
      "(5, 8)             | 60\n",
      "(5, 9)             | 60\n",
      "(6, 0)             | 20\n",
      "(6, 1)             | 60\n",
      "(6, 2)             | 20\n",
      "(6, 3)             | 12\n",
      "(6, 4)             | 20\n",
      "(6, 5)             | 60\n",
      "(6, 6)             | 20\n",
      "(6, 7)             | 60\n",
      "(6, 8)             | 4\n",
      "(6, 9)             | 60\n",
      "(7, 0)             | 60\n",
      "(7, 1)             | 12\n",
      "(7, 2)             | 60\n",
      "(7, 3)             | 60\n",
      "(7, 4)             | 60\n",
      "(7, 5)             | 60\n",
      "(7, 6)             | 12\n",
      "(7, 7)             | 60\n",
      "(7, 8)             | 60\n",
      "(7, 9)             | 60\n",
      "(8, 0)             | 20\n",
      "(8, 1)             | 60\n",
      "(8, 2)             | 20\n",
      "(8, 3)             | 60\n",
      "(8, 4)             | 4\n",
      "(8, 5)             | 60\n",
      "(8, 6)             | 20\n",
      "(8, 7)             | 60\n",
      "(8, 8)             | 20\n",
      "(8, 9)             | 12\n",
      "(9, 0)             | 60\n",
      "(9, 1)             | 60\n",
      "(9, 2)             | 12\n",
      "(9, 3)             | 60\n",
      "(9, 4)             | 60\n",
      "(9, 5)             | 60\n",
      "(9, 6)             | 60\n",
      "(9, 7)             | 12\n",
      "(9, 8)             | 60\n",
      "(9, 9)             | 60\n"
     ]
    }
   ],
   "source": [
    "def cycle_length(a, b):\n",
    "    result = [a, b]\n",
    "\n",
    "    for i in range(2, 100):\n",
    "        next_entry = (result[i-1] + result[i-2]) % 10\n",
    "        result.append(next_entry)\n",
    "\n",
    "        # Check for when the first pair repeats later in the chain\n",
    "        if i > 2 and result[i - 2] == a and result[i - 1] == b:\n",
    "            cyclic_length = i - 2\n",
    "            return cyclic_length\n",
    "\n",
    "    return 0\n",
    "\n",
    "print(\"Starting Pair(a, b)| Cycle Length\")\n",
    "\n",
    "\n",
    "# Generate list and print\n",
    "for a in range(10):\n",
    "    for b in range(10):\n",
    "        cycle_length_value = cycle_length(a, b)\n",
    "        print(f\"({a}, {b})             | {cycle_length_value}\")"
   ]
  },
  {
   "cell_type": "code",
   "execution_count": null,
   "id": "f3119595-3fe7-4791-a32a-f8b743788e31",
   "metadata": {},
   "outputs": [],
   "source": [
    "\n",
    "        "
   ]
  }
 ],
 "metadata": {
  "kernelspec": {
   "display_name": "anaconda-2022.05-py39",
   "language": "python",
   "name": "conda-env-anaconda-2022.05-py39-py"
  },
  "language_info": {
   "codemirror_mode": {
    "name": "ipython",
    "version": 3
   },
   "file_extension": ".py",
   "mimetype": "text/x-python",
   "name": "python",
   "nbconvert_exporter": "python",
   "pygments_lexer": "ipython3",
   "version": "3.9.12"
  }
 },
 "nbformat": 4,
 "nbformat_minor": 5
}
