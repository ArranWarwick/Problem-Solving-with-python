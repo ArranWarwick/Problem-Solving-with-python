{
 "cells": [
  {
   "cell_type": "code",
   "execution_count": 3,
   "id": "fb933191-449a-4944-846e-07b3cf68432e",
   "metadata": {},
   "outputs": [
    {
     "name": "stdin",
     "output_type": "stream",
     "text": [
      "Enter the size of the matrix (n):  3\n",
      "Who goes first, A (0) or B (1)?  a\n"
     ]
    },
    {
     "name": "stdout",
     "output_type": "stream",
     "text": [
      "\n",
      "Current state of the board:\n",
      "[['_' '_' '_']\n",
      " ['_' '_' '_']\n",
      " ['_' '_' '_']]\n",
      "Player A's turn (0).\n"
     ]
    },
    {
     "name": "stdin",
     "output_type": "stream",
     "text": [
      "Enter row number:  1\n",
      "Enter column number:  1\n"
     ]
    },
    {
     "name": "stdout",
     "output_type": "stream",
     "text": [
      "\n",
      "Current state of the board:\n",
      "[['0' '_' '_']\n",
      " ['_' '_' '_']\n",
      " ['_' '_' '_']]\n",
      "Player B's turn (1).\n"
     ]
    },
    {
     "name": "stdin",
     "output_type": "stream",
     "text": [
      "Enter row number:  1\n",
      "Enter column number:  2\n"
     ]
    },
    {
     "name": "stdout",
     "output_type": "stream",
     "text": [
      "\n",
      "Current state of the board:\n",
      "[['0' '1' '_']\n",
      " ['_' '_' '_']\n",
      " ['_' '_' '_']]\n",
      "Player A's turn (0).\n"
     ]
    },
    {
     "name": "stdin",
     "output_type": "stream",
     "text": [
      "Enter row number:  1\n",
      "Enter column number:  3\n"
     ]
    },
    {
     "name": "stdout",
     "output_type": "stream",
     "text": [
      "\n",
      "Current state of the board:\n",
      "[['0' '1' '0']\n",
      " ['_' '_' '_']\n",
      " ['_' '_' '_']]\n",
      "Player B's turn (1).\n"
     ]
    },
    {
     "name": "stdin",
     "output_type": "stream",
     "text": [
      "Enter row number:  2\n",
      "Enter column number:  1\n"
     ]
    },
    {
     "name": "stdout",
     "output_type": "stream",
     "text": [
      "\n",
      "Current state of the board:\n",
      "[['0' '1' '0']\n",
      " ['1' '_' '_']\n",
      " ['_' '_' '_']]\n",
      "Player A's turn (0).\n"
     ]
    },
    {
     "name": "stdin",
     "output_type": "stream",
     "text": [
      "Enter row number:  3\n",
      "Enter column number:  3\n"
     ]
    },
    {
     "name": "stdout",
     "output_type": "stream",
     "text": [
      "\n",
      "Current state of the board:\n",
      "[['0' '1' '0']\n",
      " ['1' '_' '_']\n",
      " ['_' '_' '0']]\n",
      "Player B's turn (1).\n"
     ]
    },
    {
     "name": "stdin",
     "output_type": "stream",
     "text": [
      "Enter row number:  2\n",
      "Enter column number:  3\n"
     ]
    },
    {
     "name": "stdout",
     "output_type": "stream",
     "text": [
      "\n",
      "Current state of the board:\n",
      "[['0' '1' '0']\n",
      " ['1' '_' '1']\n",
      " ['_' '_' '0']]\n",
      "Player A's turn (0).\n"
     ]
    },
    {
     "name": "stdin",
     "output_type": "stream",
     "text": [
      "Enter row number:  3\n",
      "Enter column number:  1\n"
     ]
    },
    {
     "name": "stdout",
     "output_type": "stream",
     "text": [
      "\n",
      "Current state of the board:\n",
      "[['0' '1' '0']\n",
      " ['1' '_' '1']\n",
      " ['0' '_' '0']]\n",
      "Player B's turn (1).\n"
     ]
    },
    {
     "name": "stdin",
     "output_type": "stream",
     "text": [
      "Enter row number:  2\n",
      "Enter column number:  2\n"
     ]
    },
    {
     "name": "stdout",
     "output_type": "stream",
     "text": [
      "\n",
      "Current state of the board:\n",
      "[['0' '1' '0']\n",
      " ['1' '1' '1']\n",
      " ['0' '_' '0']]\n",
      "Player A's turn (0).\n"
     ]
    },
    {
     "name": "stdin",
     "output_type": "stream",
     "text": [
      "Enter row number:  3\n",
      "Enter column number:  2\n"
     ]
    },
    {
     "name": "stdout",
     "output_type": "stream",
     "text": [
      "\n",
      "Current state of the board:\n",
      "[['0' '1' '0']\n",
      " ['1' '1' '1']\n",
      " ['0' '0' '0']]\n",
      "Player A wins (Determinant is 0)\n"
     ]
    }
   ],
   "source": [
    " import numpy as np\n",
    "\n",
    "def creatematrix(n):\n",
    "    \"\"\"Create an n x n matrix filled with -1, indicating empty spaces.\"\"\"\n",
    "    return np.full((n, n), -1)\n",
    "\n",
    "def printmatrix(matrix):\n",
    "    \"\"\"Print the matrix in a readable format.\"\"\"\n",
    "    printmatrix = np.where(matrix == -1, '_', matrix)  # Replace -1 with '_'\n",
    "    print(\"\\nCurrent state of the board:\")\n",
    "    print(printmatrix)\n",
    "\n",
    "def isvalidmove(matrix, row, col):\n",
    "    \"\"\"Check if the chosen move is valid.\"\"\"\n",
    "    n = len(matrix)\n",
    "    return 0 <= row < n and 0 <= col < n and matrix[row, col] == -1\n",
    "\n",
    "def makemove(matrix, player, row, col):\n",
    "    \"\"\"Place the player's number (0 or 1) on the board.\"\"\"\n",
    "    matrix[row, col] = player\n",
    "\n",
    "def isfull(matrix):\n",
    "    \"\"\"Check if the matrix is full.\"\"\"\n",
    "    return np.all(matrix != -1)\n",
    "\n",
    "def calculatedeterminant(matrix):\n",
    "    \"\"\"Calculate the determinant of the matrix.\"\"\"\n",
    "    return np.linalg.det(matrix)\n",
    "\n",
    "def matrixgame():\n",
    "    n = int(input(\"Enter the size of the matrix (n): \"))\n",
    "    matrix = creatematrix(n)\n",
    "\n",
    "    firstplayer = input(\"Who goes first, A (0) or B (1)? \").strip().lower()\n",
    "    playerAturn = firstplayer == 'a'\n",
    "\n",
    "    \n",
    "    while not isfull(matrix):\n",
    "        printmatrix(matrix)\n",
    "        if playerAturn:\n",
    "            print(\"Player A's turn (0).\")\n",
    "        else:\n",
    "            print(\"Player B's turn (1).\")\n",
    "\n",
    "        \n",
    "        try:\n",
    "            row = int(input(\"Enter row number: \"))-1\n",
    "            col = int(input(\"Enter column number: \"))-1\n",
    "            if isvalidmove(matrix, row, col):\n",
    "                makemove(matrix, 0 if playerAturn else 1, row, col)\n",
    "                playerAturn = not playerAturn \n",
    "            else:\n",
    "                print(\"Invalid move. Try again.\")\n",
    "        except ValueError:\n",
    "            print(\"Invalid input. Please enter numbers.\")\n",
    "\n",
    "    \n",
    "    printmatrix(matrix)\n",
    "    if calculatedeterminant(matrix) == 0:\n",
    "        print(\"Player A wins (Determinant is 0)\")\n",
    "    else:\n",
    "        print(\"Player B wins (Determinant is not 0)\")\n",
    "\n",
    "matrixgame()\n",
    "\n",
    "\n"
   ]
  },
  {
   "cell_type": "code",
   "execution_count": null,
   "id": "d4408585-7fca-4eba-8fec-17846c71f02d",
   "metadata": {},
   "outputs": [],
   "source": []
  }
 ],
 "metadata": {
  "kernelspec": {
   "display_name": "anaconda-2022.05-py39",
   "language": "python",
   "name": "conda-env-anaconda-2022.05-py39-py"
  },
  "language_info": {
   "codemirror_mode": {
    "name": "ipython",
    "version": 3
   },
   "file_extension": ".py",
   "mimetype": "text/x-python",
   "name": "python",
   "nbconvert_exporter": "python",
   "pygments_lexer": "ipython3",
   "version": "3.9.12"
  }
 },
 "nbformat": 4,
 "nbformat_minor": 5
}
