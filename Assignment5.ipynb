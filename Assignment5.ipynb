{
 "cells": [
  {
   "cell_type": "code",
   "execution_count": 13,
   "id": "22c3443d-acbe-4242-9a43-b6d6f0b60f34",
   "metadata": {},
   "outputs": [
    {
     "name": "stdin",
     "output_type": "stream",
     "text": [
      "Enter value:  11\n"
     ]
    },
    {
     "name": "stdout",
     "output_type": "stream",
     "text": [
      "Pattern for n = 11 :\n",
      "\n",
      "[[101 100  99  98  97  96  95  94  93  92  91]\n",
      " [102  65  64  63  62  61  60  59  58  57  90]\n",
      " [103  66  37  36  35  34  33  32  31  56  89]\n",
      " [104  67  38  17  16  15  14  13  30  55  88]\n",
      " [105  68  39  18   5   4   3  12  29  54  87]\n",
      " [106  69  40  19   6   1   2  11  28  53  86]\n",
      " [107  70  41  20   7   8   9  10  27  52  85]\n",
      " [108  71  42  21  22  23  24  25  26  51  84]\n",
      " [109  72  43  44  45  46  47  48  49  50  83]\n",
      " [110  73  74  75  76  77  78  79  80  81  82]\n",
      " [111 112 113 114 115 116 117 118 119 120 121]]\n"
     ]
    }
   ],
   "source": [
    "import numpy as np\n",
    "\n",
    "def pattern(n):\n",
    "    matrix = np.zeros((n, n), dtype=int)\n",
    "    row, col = n // 2, n // 2\n",
    "    number = 1\n",
    "    steps = 1\n",
    "    \n",
    "    matrix[row, col] = number\n",
    "\n",
    "    while steps < n:\n",
    "        for a in range(steps):\n",
    "            col += 1\n",
    "            number += 1\n",
    "            matrix[row, col] = number\n",
    "\n",
    "        for a in range(steps):\n",
    "            row -= 1\n",
    "            number += 1\n",
    "            matrix[row, col] = number\n",
    "\n",
    "        steps += 1\n",
    "\n",
    "        for a in range(steps):\n",
    "            col -= 1\n",
    "            number += 1\n",
    "            matrix[row, col] = number\n",
    "\n",
    "        for a in range(steps):\n",
    "            row += 1\n",
    "            number += 1\n",
    "            matrix[row, col] = number\n",
    "\n",
    "        steps += 1\n",
    "\n",
    "    for a in range(steps - 1):\n",
    "        col += 1\n",
    "        number += 1\n",
    "        matrix[row, col] = number\n",
    "\n",
    "    return matrix\n",
    "\n",
    "def main():\n",
    "    n = int(input(\"Enter value: \"))\n",
    "    pattern_matrix = pattern(n)\n",
    "    print(\"Pattern for n =\", n, \":\")\n",
    "    print()\n",
    "    print(pattern_matrix)\n",
    "\n",
    "if __name__ == \"__main__\":\n",
    "    main()"
   ]
  },
  {
   "cell_type": "code",
   "execution_count": null,
   "id": "dbd630b5-42ea-4e49-badc-b7d19015f415",
   "metadata": {},
   "outputs": [],
   "source": []
  }
 ],
 "metadata": {
  "kernelspec": {
   "display_name": "anaconda-panel-2023.05-py310",
   "language": "python",
   "name": "conda-env-anaconda-panel-2023.05-py310-py"
  },
  "language_info": {
   "codemirror_mode": {
    "name": "ipython",
    "version": 3
   },
   "file_extension": ".py",
   "mimetype": "text/x-python",
   "name": "python",
   "nbconvert_exporter": "python",
   "pygments_lexer": "ipython3",
   "version": "3.11.5"
  }
 },
 "nbformat": 4,
 "nbformat_minor": 5
}
